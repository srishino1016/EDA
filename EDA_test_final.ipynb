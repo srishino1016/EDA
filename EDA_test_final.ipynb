{
 "cells": [
  {
   "cell_type": "markdown",
   "metadata": {},
   "source": [
    "EXPLORATORY DATA ANALSIS: HYPOTHESIS TESTING\n"
   ]
  },
  {
   "cell_type": "code",
   "execution_count": 2,
   "metadata": {},
   "outputs": [],
   "source": [
    "import pandas as pd\n",
    "import numpy as np\n",
    "#Dressbarn EDA file\n",
    "POS=pd.read_csv(r'C:\\Users\\SrishtiNagu\\Desktop\\DDRS12\\CAPSTONE\\DATA\\cleaned_data\\Outlier_treated_POS.csv')"
   ]
  },
  {
   "cell_type": "markdown",
   "metadata": {},
   "source": [
    "Making a copy of original POS"
   ]
  },
  {
   "cell_type": "code",
   "execution_count": 3,
   "metadata": {},
   "outputs": [],
   "source": [
    "POS1=POS.copy()"
   ]
  },
  {
   "cell_type": "code",
   "execution_count": 4,
   "metadata": {},
   "outputs": [],
   "source": [
    "POS1['date']=POS1['date'].astype('datetime64[ns]')"
   ]
  },
  {
   "cell_type": "markdown",
   "metadata": {},
   "source": [
    "to add month and year "
   ]
  },
  {
   "cell_type": "code",
   "execution_count": 5,
   "metadata": {},
   "outputs": [],
   "source": [
    "POS1=POS1.assign(year = POS1['date'].dt.year,month = POS1['date'].dt.strftime('%b'))\n"
   ]
  },
  {
   "cell_type": "markdown",
   "metadata": {},
   "source": [
    "1) HYPOTHESIS: DEMAND IS SEASONAL: MONTH VS SALES"
   ]
  },
  {
   "cell_type": "code",
   "execution_count": 24,
   "metadata": {},
   "outputs": [],
   "source": [
    "sales_month=POS1.groupby([\"year\", \"month\"],as_index=False)[\"sales\"].sum()"
   ]
  },
  {
   "cell_type": "code",
   "execution_count": null,
   "metadata": {},
   "outputs": [],
   "source": [
    "sales_month.to_csv(r'C:\\Users\\SrishtiNagu\\Desktop\\DDRS12\\CAPSTONE\\DATA\\cleaned_data\\data_sales_month.csv',index = False)"
   ]
  },
  {
   "cell_type": "markdown",
   "metadata": {},
   "source": [
    "Merging new promo+holiday column(2 in 1) 10.12.21"
   ]
  },
  {
   "cell_type": "code",
   "execution_count": 7,
   "metadata": {},
   "outputs": [],
   "source": [
    "HolidayPromo_final1=pd.read_csv(r'C:\\Users\\SrishtiNagu\\Desktop\\DDRS12\\CAPSTONE\\DATA\\cleaned_data\\holiday_promo_final1.csv')"
   ]
  },
  {
   "cell_type": "code",
   "execution_count": 8,
   "metadata": {},
   "outputs": [],
   "source": [
    "HolidayPromo_final1['date']=HolidayPromo_final1['date'].astype('datetime64[ns]')"
   ]
  },
  {
   "cell_type": "code",
   "execution_count": 9,
   "metadata": {},
   "outputs": [],
   "source": [
    "POS2=POS1.copy()"
   ]
  },
  {
   "cell_type": "code",
   "execution_count": 16,
   "metadata": {},
   "outputs": [],
   "source": [
    "POS2=POS2.merge(HolidayPromo_final1,on='date',how='left')"
   ]
  },
  {
   "cell_type": "code",
   "execution_count": 19,
   "metadata": {},
   "outputs": [],
   "source": [
    "POS2['holiday_name']= POS2['holiday_name'].fillna(0)"
   ]
  },
  {
   "cell_type": "code",
   "execution_count": 20,
   "metadata": {},
   "outputs": [],
   "source": [
    "POS2['holiday_name'] = POS2['holiday_name'].astype(int)"
   ]
  },
  {
   "cell_type": "code",
   "execution_count": 25,
   "metadata": {},
   "outputs": [],
   "source": [
    "holiday_promo_sales=POS2.groupby([\"year\", \"holiday_name\"],as_index=False)[\"sales\"].sum()"
   ]
  },
  {
   "cell_type": "code",
   "execution_count": 26,
   "metadata": {},
   "outputs": [],
   "source": [
    "holiday_promo_units=POS2.groupby([\"year\", \"holiday_name\"],as_index=False)[\"units\"].sum()"
   ]
  },
  {
   "cell_type": "code",
   "execution_count": null,
   "metadata": {},
   "outputs": [],
   "source": [
    "holiday_promo_units.to_csv(r'C:\\Users\\SrishtiNagu\\Desktop\\DDRS12\\CAPSTONE\\DATA\\cleaned_data\\data_holiday_promo_units.csv',index = False)"
   ]
  },
  {
   "cell_type": "code",
   "execution_count": 93,
   "metadata": {},
   "outputs": [],
   "source": [
    "holiday_promo_sales.to_csv(r'C:\\Users\\SrishtiNagu\\Desktop\\DDRS12\\CAPSTONE\\DATA\\cleaned_data\\data_holiday_promo_sales.csv',index = False)"
   ]
  },
  {
   "cell_type": "markdown",
   "metadata": {},
   "source": [
    "2) HYPOTHESIS:HOLIDAYS OUT-PERFORM NORMAL DAYS IN TERMS OF SALES AND UNITS"
   ]
  },
  {
   "cell_type": "code",
   "execution_count": 6,
   "metadata": {},
   "outputs": [],
   "source": [
    "holiday_sales=POS1.groupby([\"year\", \"holiday_name\"],as_index=False)[\"sales\"].mean()"
   ]
  },
  {
   "cell_type": "code",
   "execution_count": 132,
   "metadata": {},
   "outputs": [],
   "source": [
    "holiday_units=df_POS1.groupby([\"year\", \"holiday_name\"],as_index=False)[\"units\"].mean()"
   ]
  },
  {
   "cell_type": "code",
   "execution_count": 133,
   "metadata": {},
   "outputs": [
    {
     "data": {
      "text/html": [
       "<div>\n",
       "<style scoped>\n",
       "    .dataframe tbody tr th:only-of-type {\n",
       "        vertical-align: middle;\n",
       "    }\n",
       "\n",
       "    .dataframe tbody tr th {\n",
       "        vertical-align: top;\n",
       "    }\n",
       "\n",
       "    .dataframe thead th {\n",
       "        text-align: right;\n",
       "    }\n",
       "</style>\n",
       "<table border=\"1\" class=\"dataframe\">\n",
       "  <thead>\n",
       "    <tr style=\"text-align: right;\">\n",
       "      <th></th>\n",
       "      <th>year</th>\n",
       "      <th>holiday_name</th>\n",
       "      <th>units</th>\n",
       "    </tr>\n",
       "  </thead>\n",
       "  <tbody>\n",
       "    <tr>\n",
       "      <th>0</th>\n",
       "      <td>2015</td>\n",
       "      <td>0</td>\n",
       "      <td>1.044873</td>\n",
       "    </tr>\n",
       "    <tr>\n",
       "      <th>1</th>\n",
       "      <td>2015</td>\n",
       "      <td>1</td>\n",
       "      <td>1.053308</td>\n",
       "    </tr>\n",
       "    <tr>\n",
       "      <th>2</th>\n",
       "      <td>2016</td>\n",
       "      <td>0</td>\n",
       "      <td>1.050035</td>\n",
       "    </tr>\n",
       "    <tr>\n",
       "      <th>3</th>\n",
       "      <td>2016</td>\n",
       "      <td>1</td>\n",
       "      <td>1.051851</td>\n",
       "    </tr>\n",
       "    <tr>\n",
       "      <th>4</th>\n",
       "      <td>2017</td>\n",
       "      <td>0</td>\n",
       "      <td>1.060314</td>\n",
       "    </tr>\n",
       "    <tr>\n",
       "      <th>5</th>\n",
       "      <td>2017</td>\n",
       "      <td>1</td>\n",
       "      <td>1.063067</td>\n",
       "    </tr>\n",
       "    <tr>\n",
       "      <th>6</th>\n",
       "      <td>2018</td>\n",
       "      <td>0</td>\n",
       "      <td>1.072487</td>\n",
       "    </tr>\n",
       "    <tr>\n",
       "      <th>7</th>\n",
       "      <td>2018</td>\n",
       "      <td>1</td>\n",
       "      <td>1.077281</td>\n",
       "    </tr>\n",
       "  </tbody>\n",
       "</table>\n",
       "</div>"
      ],
      "text/plain": [
       "   year  holiday_name     units\n",
       "0  2015             0  1.044873\n",
       "1  2015             1  1.053308\n",
       "2  2016             0  1.050035\n",
       "3  2016             1  1.051851\n",
       "4  2017             0  1.060314\n",
       "5  2017             1  1.063067\n",
       "6  2018             0  1.072487\n",
       "7  2018             1  1.077281"
      ]
     },
     "execution_count": 133,
     "metadata": {},
     "output_type": "execute_result"
    }
   ],
   "source": [
    "holiday_units"
   ]
  },
  {
   "cell_type": "code",
   "execution_count": 141,
   "metadata": {},
   "outputs": [],
   "source": [
    "holiday_units.to_csv(r'C:\\Users\\SrishtiNagu\\Desktop\\DDRS12\\CAPSTONE\\DATA\\cleaned_data\\data_holiday_units.csv',index = False)"
   ]
  },
  {
   "cell_type": "code",
   "execution_count": 142,
   "metadata": {},
   "outputs": [],
   "source": [
    "holiday_sales.to_csv(r'C:\\Users\\SrishtiNagu\\Desktop\\DDRS12\\CAPSTONE\\DATA\\cleaned_data\\data_holiday_sales.csv',index = False)"
   ]
  },
  {
   "cell_type": "code",
   "execution_count": 146,
   "metadata": {},
   "outputs": [],
   "source": [
    "sales_month.to_csv(r'C:\\Users\\SrishtiNagu\\Desktop\\DDRS12\\CAPSTONE\\DATA\\cleaned_data\\data_sales_month.csv',index = False)"
   ]
  },
  {
   "cell_type": "markdown",
   "metadata": {},
   "source": [
    "3) HYPOTHESIS: STORE TYPE AFFECTS PURCHASE DECISIONS"
   ]
  },
  {
   "cell_type": "code",
   "execution_count": 149,
   "metadata": {},
   "outputs": [],
   "source": [
    "df_storetype_sales.to_csv(r'C:\\Users\\SrishtiNagu\\Desktop\\DDRS12\\CAPSTONE\\DATA\\cleaned_data\\data_storetype_sales.csv',index = False)"
   ]
  },
  {
   "cell_type": "markdown",
   "metadata": {},
   "source": [
    "4) HYPOTHESIS: LARGER THE STORE SIZE, LARGER THE NUMBER OF UNITS SOLD"
   ]
  },
  {
   "cell_type": "code",
   "execution_count": 8,
   "metadata": {},
   "outputs": [],
   "source": [
    "storesize_units=POS1.groupby([\"store_size\"],as_index=False)[\"units\"].sum()"
   ]
  },
  {
   "cell_type": "code",
   "execution_count": 154,
   "metadata": {},
   "outputs": [],
   "source": [
    "storesize_units.to_csv(r'C:\\Users\\SrishtiNagu\\Desktop\\DDRS12\\CAPSTONE\\DATA\\cleaned_data\\data_storesize_units.csv',index = False)"
   ]
  },
  {
   "cell_type": "code",
   "execution_count": 9,
   "metadata": {},
   "outputs": [
    {
     "data": {
      "text/plain": [
       "<Figure size 1080x360 with 0 Axes>"
      ]
     },
     "metadata": {},
     "output_type": "display_data"
    },
    {
     "data": {
      "image/png": "[encoded data removed]",
      "text/plain": [
       "<Figure size 432x288 with 1 Axes>"
      ]
     },
     "metadata": {
      "needs_background": "light"
     },
     "output_type": "display_data"
    }
   ],
   "source": [
    "import matplotlib.pyplot as plt \n",
    "plt.figure(figsize=(15,5))\n",
    "storesize_units.plot(x='store_size', y = 'units', kind='line')\n",
    "plt.ylabel('units sold')\n",
    "plt.show()"
   ]
  },
  {
   "cell_type": "markdown",
   "metadata": {},
   "source": [
    "5) HYPOTHESIS: LARGER THE STORE SIZE, LARGER THE SALES"
   ]
  },
  {
   "cell_type": "code",
   "execution_count": 11,
   "metadata": {},
   "outputs": [],
   "source": [
    "storesize_sales=POS1.groupby([\"store_size\"],as_index=False)[\"sales\"].sum()"
   ]
  },
  {
   "cell_type": "code",
   "execution_count": 159,
   "metadata": {},
   "outputs": [],
   "source": [
    "storesize_sales.to_csv(r'C:\\Users\\SrishtiNagu\\Desktop\\DDRS12\\CAPSTONE\\DATA\\cleaned_data\\data_storesize_sales.csv',index = False)"
   ]
  },
  {
   "cell_type": "code",
   "execution_count": 12,
   "metadata": {},
   "outputs": [
    {
     "data": {
      "text/plain": [
       "<Figure size 1080x360 with 0 Axes>"
      ]
     },
     "metadata": {},
     "output_type": "display_data"
    },
    {
     "data": {
      "image/png": "[encoded data removed]",
      "text/plain": [
       "<Figure size 432x288 with 1 Axes>"
      ]
     },
     "metadata": {
      "needs_background": "light"
     },
     "output_type": "display_data"
    }
   ],
   "source": [
    "import matplotlib.pyplot as plt \n",
    "plt.figure(figsize=(15,5))\n",
    "storesize_sales.plot(x='store_size', y = 'sales', kind='line')\n",
    "\n",
    "plt.show()"
   ]
  },
  {
   "cell_type": "markdown",
   "metadata": {},
   "source": [
    "6) HYPOTHESIS: STATE WITH LARGEST NUMBER OF STORES HAS THE HIGHEST SALES"
   ]
  },
  {
   "cell_type": "code",
   "execution_count": 14,
   "metadata": {},
   "outputs": [],
   "source": [
    "state_stores=POS1.groupby([\"state\"],as_index=False)[\"store_id\"].describe()"
   ]
  },
  {
   "cell_type": "code",
   "execution_count": 15,
   "metadata": {},
   "outputs": [],
   "source": [
    "state_stores=POS1[['state','store_id']].groupby([\"state\"]).nunique()['store_id'].sort_values(ascending=False)"
   ]
  },
  {
   "cell_type": "code",
   "execution_count": 164,
   "metadata": {},
   "outputs": [],
   "source": [
    "state_stores.to_csv(r'C:\\Users\\SrishtiNagu\\Desktop\\DDRS12\\CAPSTONE\\DATA\\cleaned_data\\data_state_stores.csv',index = False)"
   ]
  },
  {
   "cell_type": "code",
   "execution_count": 165,
   "metadata": {},
   "outputs": [],
   "source": [
    "state_sales=POS1[['state','sales']].groupby('state').sum()['sales'].sort_values(ascending=False)"
   ]
  },
  {
   "cell_type": "code",
   "execution_count": 16,
   "metadata": {},
   "outputs": [
    {
     "data": {
      "text/plain": [
       "<matplotlib.axes._subplots.AxesSubplot at 0x1de3320cb48>"
      ]
     },
     "execution_count": 16,
     "metadata": {},
     "output_type": "execute_result"
    },
    {
     "data": {
      "image/png": "[encoded data removed]",
      "text/plain": [
       "<Figure size 1080x360 with 1 Axes>"
      ]
     },
     "metadata": {
      "needs_background": "light"
     },
     "output_type": "display_data"
    }
   ],
   "source": [
    "import matplotlib.pyplot as plt \n",
    "plt.figure(figsize=(15,5))\n",
    "POS1[['state','store_id']].groupby([\"state\"]).nunique()['store_id'].sort_values(ascending=False).plot(kind='bar')"
   ]
  },
  {
   "cell_type": "code",
   "execution_count": 167,
   "metadata": {},
   "outputs": [
    {
     "data": {
      "text/plain": [
       "<matplotlib.axes._subplots.AxesSubplot at 0x21e481ecc88>"
      ]
     },
     "execution_count": 167,
     "metadata": {},
     "output_type": "execute_result"
    },
    {
     "data": {
      "image/png": "[encoded data removed]",
      "text/plain": [
       "<Figure size 1080x360 with 1 Axes>"
      ]
     },
     "metadata": {
      "needs_background": "light"
     },
     "output_type": "display_data"
    }
   ],
   "source": [
    "plt.figure(figsize=(15,5))\n",
    "POS1[['state','sales']].groupby('state').sum()['sales'].sort_values(ascending=False).plot(kind='bar')"
   ]
  },
  {
   "cell_type": "code",
   "execution_count": 17,
   "metadata": {},
   "outputs": [
    {
     "data": {
      "text/html": [
       "<div>\n",
       "<style scoped>\n",
       "    .dataframe tbody tr th:only-of-type {\n",
       "        vertical-align: middle;\n",
       "    }\n",
       "\n",
       "    .dataframe tbody tr th {\n",
       "        vertical-align: top;\n",
       "    }\n",
       "\n",
       "    .dataframe thead th {\n",
       "        text-align: right;\n",
       "    }\n",
       "</style>\n",
       "<table border=\"1\" class=\"dataframe\">\n",
       "  <thead>\n",
       "    <tr style=\"text-align: right;\">\n",
       "      <th></th>\n",
       "      <th>date</th>\n",
       "      <th>store_id</th>\n",
       "      <th>sku_id</th>\n",
       "      <th>online_flag</th>\n",
       "      <th>sales</th>\n",
       "      <th>units</th>\n",
       "      <th>margin</th>\n",
       "      <th>cost_price</th>\n",
       "      <th>sales_d</th>\n",
       "      <th>margin_d</th>\n",
       "      <th>...</th>\n",
       "      <th>percentage_race_asian</th>\n",
       "      <th>percentage_race_native_indian</th>\n",
       "      <th>disposable_income_per_capita</th>\n",
       "      <th>median_household_income</th>\n",
       "      <th>total_searches</th>\n",
       "      <th>holiday_name</th>\n",
       "      <th>promotion_text</th>\n",
       "      <th>fp_nfp</th>\n",
       "      <th>year</th>\n",
       "      <th>month</th>\n",
       "    </tr>\n",
       "    <tr>\n",
       "      <th>state</th>\n",
       "      <th></th>\n",
       "      <th></th>\n",
       "      <th></th>\n",
       "      <th></th>\n",
       "      <th></th>\n",
       "      <th></th>\n",
       "      <th></th>\n",
       "      <th></th>\n",
       "      <th></th>\n",
       "      <th></th>\n",
       "      <th></th>\n",
       "      <th></th>\n",
       "      <th></th>\n",
       "      <th></th>\n",
       "      <th></th>\n",
       "      <th></th>\n",
       "      <th></th>\n",
       "      <th></th>\n",
       "      <th></th>\n",
       "      <th></th>\n",
       "      <th></th>\n",
       "    </tr>\n",
       "  </thead>\n",
       "  <tbody>\n",
       "    <tr>\n",
       "      <th>WI</th>\n",
       "      <td>4030</td>\n",
       "      <td>4030</td>\n",
       "      <td>4030</td>\n",
       "      <td>4030</td>\n",
       "      <td>4030</td>\n",
       "      <td>4030</td>\n",
       "      <td>4030</td>\n",
       "      <td>4030</td>\n",
       "      <td>4030</td>\n",
       "      <td>4030</td>\n",
       "      <td>...</td>\n",
       "      <td>4030</td>\n",
       "      <td>4030</td>\n",
       "      <td>4030</td>\n",
       "      <td>4030</td>\n",
       "      <td>4030</td>\n",
       "      <td>4030</td>\n",
       "      <td>4030</td>\n",
       "      <td>4030</td>\n",
       "      <td>4030</td>\n",
       "      <td>4030</td>\n",
       "    </tr>\n",
       "  </tbody>\n",
       "</table>\n",
       "<p>1 rows × 37 columns</p>\n",
       "</div>"
      ],
      "text/plain": [
       "       date  store_id  sku_id  online_flag  sales  units  margin  cost_price  \\\n",
       "state                                                                          \n",
       "WI     4030      4030    4030         4030   4030   4030    4030        4030   \n",
       "\n",
       "       sales_d  margin_d  ...  percentage_race_asian  \\\n",
       "state                     ...                          \n",
       "WI        4030      4030  ...                   4030   \n",
       "\n",
       "       percentage_race_native_indian  disposable_income_per_capita  \\\n",
       "state                                                                \n",
       "WI                              4030                          4030   \n",
       "\n",
       "       median_household_income  total_searches  holiday_name  promotion_text  \\\n",
       "state                                                                          \n",
       "WI                        4030            4030          4030            4030   \n",
       "\n",
       "       fp_nfp  year  month  \n",
       "state                       \n",
       "WI       4030  4030   4030  \n",
       "\n",
       "[1 rows x 37 columns]"
      ]
     },
     "execution_count": 17,
     "metadata": {},
     "output_type": "execute_result"
    }
   ],
   "source": [
    "POS1[POS1['store_id']==1024].groupby(['state']).count()"
   ]
  },
  {
   "cell_type": "code",
   "execution_count": 170,
   "metadata": {},
   "outputs": [],
   "source": [
    "## HYPOTHESIS: HIGHER THE FEMALE POPULATION, HIGHER THE SALES"
   ]
  },
  {
   "cell_type": "code",
   "execution_count": null,
   "metadata": {},
   "outputs": [],
   "source": []
  },
  {
   "cell_type": "markdown",
   "metadata": {},
   "source": [
    "7) HIGHER THE DISPOSABLE INCOME, HIGHER THE SALES"
   ]
  },
  {
   "cell_type": "code",
   "execution_count": 18,
   "metadata": {},
   "outputs": [],
   "source": [
    "disincome_sales=POS1.groupby([\"state\", \"disposable_income_per_capita\"],as_index=False)[\"sales\"].sum()\n"
   ]
  },
  {
   "cell_type": "code",
   "execution_count": null,
   "metadata": {},
   "outputs": [],
   "source": []
  },
  {
   "cell_type": "code",
   "execution_count": 177,
   "metadata": {},
   "outputs": [],
   "source": [
    "disincome_sales.to_csv(r'C:\\Users\\SrishtiNagu\\Desktop\\DDRS12\\CAPSTONE\\DATA\\cleaned_data\\data_disincome_sales.csv',index = False)"
   ]
  },
  {
   "cell_type": "markdown",
   "metadata": {},
   "source": [
    "Checking different class names in Dressbarn"
   ]
  },
  {
   "cell_type": "code",
   "execution_count": 19,
   "metadata": {},
   "outputs": [
    {
     "data": {
      "text/plain": [
       "array(['SPECIAL OCCASION DAY', 'REFINED DRESSES',\n",
       "       'SPECIAL OCCASION SEPARATES', 'SPECIAL OCCASION EVENING',\n",
       "       'CASUAL DRESSES', 'DUMMY CLASS'], dtype=object)"
      ]
     },
     "execution_count": 19,
     "metadata": {},
     "output_type": "execute_result"
    }
   ],
   "source": [
    "POS1['class_name'].unique()"
   ]
  },
  {
   "cell_type": "markdown",
   "metadata": {},
   "source": [
    "8. HYPOTHESIS: WHICH IS THE HIGHEST SELLING GARMENT "
   ]
  },
  {
   "cell_type": "code",
   "execution_count": 20,
   "metadata": {},
   "outputs": [],
   "source": [
    "class_margin=POS1.groupby([\"class_name\"],as_index=False)[\"margin\"].sum()"
   ]
  },
  {
   "cell_type": "code",
   "execution_count": 21,
   "metadata": {},
   "outputs": [
    {
     "data": {
      "text/html": [
       "<div>\n",
       "<style scoped>\n",
       "    .dataframe tbody tr th:only-of-type {\n",
       "        vertical-align: middle;\n",
       "    }\n",
       "\n",
       "    .dataframe tbody tr th {\n",
       "        vertical-align: top;\n",
       "    }\n",
       "\n",
       "    .dataframe thead th {\n",
       "        text-align: right;\n",
       "    }\n",
       "</style>\n",
       "<table border=\"1\" class=\"dataframe\">\n",
       "  <thead>\n",
       "    <tr style=\"text-align: right;\">\n",
       "      <th></th>\n",
       "      <th>class_name</th>\n",
       "      <th>margin</th>\n",
       "    </tr>\n",
       "  </thead>\n",
       "  <tbody>\n",
       "    <tr>\n",
       "      <th>0</th>\n",
       "      <td>CASUAL DRESSES</td>\n",
       "      <td>1.593036e+07</td>\n",
       "    </tr>\n",
       "    <tr>\n",
       "      <th>1</th>\n",
       "      <td>DUMMY CLASS</td>\n",
       "      <td>1.396256e+04</td>\n",
       "    </tr>\n",
       "    <tr>\n",
       "      <th>2</th>\n",
       "      <td>REFINED DRESSES</td>\n",
       "      <td>7.852378e+07</td>\n",
       "    </tr>\n",
       "    <tr>\n",
       "      <th>3</th>\n",
       "      <td>SPECIAL OCCASION DAY</td>\n",
       "      <td>2.459621e+07</td>\n",
       "    </tr>\n",
       "    <tr>\n",
       "      <th>4</th>\n",
       "      <td>SPECIAL OCCASION EVENING</td>\n",
       "      <td>4.240055e+07</td>\n",
       "    </tr>\n",
       "    <tr>\n",
       "      <th>5</th>\n",
       "      <td>SPECIAL OCCASION SEPARATES</td>\n",
       "      <td>1.491492e+07</td>\n",
       "    </tr>\n",
       "  </tbody>\n",
       "</table>\n",
       "</div>"
      ],
      "text/plain": [
       "                   class_name        margin\n",
       "0              CASUAL DRESSES  1.593036e+07\n",
       "1                 DUMMY CLASS  1.396256e+04\n",
       "2             REFINED DRESSES  7.852378e+07\n",
       "3        SPECIAL OCCASION DAY  2.459621e+07\n",
       "4    SPECIAL OCCASION EVENING  4.240055e+07\n",
       "5  SPECIAL OCCASION SEPARATES  1.491492e+07"
      ]
     },
     "execution_count": 21,
     "metadata": {},
     "output_type": "execute_result"
    }
   ],
   "source": [
    "class_margin"
   ]
  },
  {
   "cell_type": "code",
   "execution_count": 184,
   "metadata": {},
   "outputs": [],
   "source": [
    "class_sales=POS1.groupby([\"class_name\"],as_index=False)[\"sales\"].sum()"
   ]
  },
  {
   "cell_type": "code",
   "execution_count": 185,
   "metadata": {},
   "outputs": [
    {
     "data": {
      "text/html": [
       "<div>\n",
       "<style scoped>\n",
       "    .dataframe tbody tr th:only-of-type {\n",
       "        vertical-align: middle;\n",
       "    }\n",
       "\n",
       "    .dataframe tbody tr th {\n",
       "        vertical-align: top;\n",
       "    }\n",
       "\n",
       "    .dataframe thead th {\n",
       "        text-align: right;\n",
       "    }\n",
       "</style>\n",
       "<table border=\"1\" class=\"dataframe\">\n",
       "  <thead>\n",
       "    <tr style=\"text-align: right;\">\n",
       "      <th></th>\n",
       "      <th>class_name</th>\n",
       "      <th>sales</th>\n",
       "    </tr>\n",
       "  </thead>\n",
       "  <tbody>\n",
       "    <tr>\n",
       "      <th>0</th>\n",
       "      <td>CASUAL DRESSES</td>\n",
       "      <td>3.095544e+07</td>\n",
       "    </tr>\n",
       "    <tr>\n",
       "      <th>1</th>\n",
       "      <td>DUMMY CLASS</td>\n",
       "      <td>1.475068e+05</td>\n",
       "    </tr>\n",
       "    <tr>\n",
       "      <th>2</th>\n",
       "      <td>REFINED DRESSES</td>\n",
       "      <td>1.463683e+08</td>\n",
       "    </tr>\n",
       "    <tr>\n",
       "      <th>3</th>\n",
       "      <td>SPECIAL OCCASION DAY</td>\n",
       "      <td>4.601368e+07</td>\n",
       "    </tr>\n",
       "    <tr>\n",
       "      <th>4</th>\n",
       "      <td>SPECIAL OCCASION EVENING</td>\n",
       "      <td>7.670571e+07</td>\n",
       "    </tr>\n",
       "    <tr>\n",
       "      <th>5</th>\n",
       "      <td>SPECIAL OCCASION SEPARATES</td>\n",
       "      <td>2.693480e+07</td>\n",
       "    </tr>\n",
       "  </tbody>\n",
       "</table>\n",
       "</div>"
      ],
      "text/plain": [
       "                   class_name         sales\n",
       "0              CASUAL DRESSES  3.095544e+07\n",
       "1                 DUMMY CLASS  1.475068e+05\n",
       "2             REFINED DRESSES  1.463683e+08\n",
       "3        SPECIAL OCCASION DAY  4.601368e+07\n",
       "4    SPECIAL OCCASION EVENING  7.670571e+07\n",
       "5  SPECIAL OCCASION SEPARATES  2.693480e+07"
      ]
     },
     "execution_count": 185,
     "metadata": {},
     "output_type": "execute_result"
    }
   ],
   "source": [
    "class_sales"
   ]
  },
  {
   "cell_type": "code",
   "execution_count": 186,
   "metadata": {},
   "outputs": [],
   "source": [
    "class_margin.to_csv(r'C:\\Users\\SrishtiNagu\\Desktop\\DDRS12\\CAPSTONE\\DATA\\cleaned_data\\data_class_margin.csv',index = False)"
   ]
  },
  {
   "cell_type": "markdown",
   "metadata": {},
   "source": [
    "Check: HIGHEST SALES FOR WHICH SUBCLASS"
   ]
  },
  {
   "cell_type": "code",
   "execution_count": 188,
   "metadata": {},
   "outputs": [],
   "source": [
    "POS3=POS1[(df_POS1['class_name']=='REFINED DRESSES')]"
   ]
  },
  {
   "cell_type": "code",
   "execution_count": 23,
   "metadata": {},
   "outputs": [
    {
     "data": {
      "text/plain": [
       "array(['WOVENS', 'TOPS', 'LACE', 'KNITS', 'JACKETS', 'BOTTOMS',\n",
       "       'DUMMY SUBCLASS'], dtype=object)"
      ]
     },
     "execution_count": 23,
     "metadata": {},
     "output_type": "execute_result"
    }
   ],
   "source": [
    "POS1['subclass_name'].unique()"
   ]
  },
  {
   "cell_type": "code",
   "execution_count": 24,
   "metadata": {},
   "outputs": [
    {
     "data": {
      "text/plain": [
       "array([31, 21, 50, 32, 20, 40, 41, 52, 30, 51,  6, 42,  5, 99],\n",
       "      dtype=int64)"
      ]
     },
     "execution_count": 24,
     "metadata": {},
     "output_type": "execute_result"
    }
   ],
   "source": [
    "POS1['subclass'].unique()"
   ]
  },
  {
   "cell_type": "code",
   "execution_count": 26,
   "metadata": {},
   "outputs": [],
   "source": [
    "POS3=POS1[(POS1['subclass_name']=='WOVENS')]"
   ]
  },
  {
   "cell_type": "code",
   "execution_count": 27,
   "metadata": {},
   "outputs": [
    {
     "data": {
      "text/plain": [
       "1"
      ]
     },
     "execution_count": 27,
     "metadata": {},
     "output_type": "execute_result"
    }
   ],
   "source": [
    "POS3['subclass_name'].nunique()"
   ]
  },
  {
   "cell_type": "code",
   "execution_count": 28,
   "metadata": {},
   "outputs": [],
   "source": [
    "subclass_margin=POS1.groupby([\"subclass_name\"],as_index=False)[\"margin\"].sum()"
   ]
  },
  {
   "cell_type": "code",
   "execution_count": 192,
   "metadata": {},
   "outputs": [],
   "source": [
    "subclass_margin.to_csv(r\"C:\\Users\\SrishtiNagu\\Desktop\\DDRS12\\CAPSTONE\\DATA\\cleaned_data\\data_subclass_margin.csv\")"
   ]
  },
  {
   "cell_type": "markdown",
   "metadata": {},
   "source": [
    "FASHION PYRAMID"
   ]
  },
  {
   "cell_type": "code",
   "execution_count": 29,
   "metadata": {},
   "outputs": [
    {
     "data": {
      "text/plain": [
       "array(['Fashion_Driver', 'Trend', 'Core', 'Misc'], dtype=object)"
      ]
     },
     "execution_count": 29,
     "metadata": {},
     "output_type": "execute_result"
    }
   ],
   "source": [
    "POS1['fashion_pyramid'].unique()"
   ]
  },
  {
   "cell_type": "code",
   "execution_count": 30,
   "metadata": {},
   "outputs": [],
   "source": [
    "fashion_only=POS1.groupby([\"fashion_pyramid\"],as_index=False)[\"units\"].sum()"
   ]
  },
  {
   "cell_type": "code",
   "execution_count": 196,
   "metadata": {},
   "outputs": [],
   "source": [
    "fashion_only.to_csv(r\"C:\\Users\\SrishtiNagu\\Desktop\\DDRS12\\CAPSTONE\\DATA\\cleaned_data\\data_fashion_only.csv\")"
   ]
  },
  {
   "cell_type": "markdown",
   "metadata": {},
   "source": [
    "REGION"
   ]
  },
  {
   "cell_type": "code",
   "execution_count": 31,
   "metadata": {},
   "outputs": [
    {
     "data": {
      "text/plain": [
       "array(['REGION 6', 'REGION 5', 'REGION 1', 'REGION 7', 'REGION 3',\n",
       "       'REGION 10', 'REGION 9'], dtype=object)"
      ]
     },
     "execution_count": 31,
     "metadata": {},
     "output_type": "execute_result"
    }
   ],
   "source": [
    "POS1['region'].unique()"
   ]
  },
  {
   "cell_type": "code",
   "execution_count": null,
   "metadata": {},
   "outputs": [],
   "source": [
    "region=POS1.groupby([\"region\"],as_index=False)[\"sales\"].sum()"
   ]
  },
  {
   "cell_type": "code",
   "execution_count": null,
   "metadata": {},
   "outputs": [],
   "source": [
    "region.to_csv(r\"C:\\Users\\SrishtiNagu\\Desktop\\DDRS12\\CAPSTONE\\DATA\\cleaned_data\\data_region.csv\")"
   ]
  },
  {
   "cell_type": "markdown",
   "metadata": {},
   "source": [
    "PROMOTION SALES---final promotion "
   ]
  },
  {
   "cell_type": "code",
   "execution_count": 32,
   "metadata": {},
   "outputs": [
    {
     "data": {
      "text/plain": [
       "array([0, 1], dtype=int64)"
      ]
     },
     "execution_count": 32,
     "metadata": {},
     "output_type": "execute_result"
    }
   ],
   "source": [
    "POS1['promotion_text'].unique()"
   ]
  },
  {
   "cell_type": "code",
   "execution_count": 94,
   "metadata": {},
   "outputs": [],
   "source": [
    "promotion_units=POS1.groupby([\"year\", \"promotion_text\"],as_index=False)[\"units\"].sum()"
   ]
  },
  {
   "cell_type": "code",
   "execution_count": 95,
   "metadata": {},
   "outputs": [
    {
     "data": {
      "text/html": [
       "<div>\n",
       "<style scoped>\n",
       "    .dataframe tbody tr th:only-of-type {\n",
       "        vertical-align: middle;\n",
       "    }\n",
       "\n",
       "    .dataframe tbody tr th {\n",
       "        vertical-align: top;\n",
       "    }\n",
       "\n",
       "    .dataframe thead th {\n",
       "        text-align: right;\n",
       "    }\n",
       "</style>\n",
       "<table border=\"1\" class=\"dataframe\">\n",
       "  <thead>\n",
       "    <tr style=\"text-align: right;\">\n",
       "      <th></th>\n",
       "      <th>year</th>\n",
       "      <th>promotion_text</th>\n",
       "      <th>units</th>\n",
       "    </tr>\n",
       "  </thead>\n",
       "  <tbody>\n",
       "    <tr>\n",
       "      <th>0</th>\n",
       "      <td>2015</td>\n",
       "      <td>0</td>\n",
       "      <td>1159572.0</td>\n",
       "    </tr>\n",
       "    <tr>\n",
       "      <th>1</th>\n",
       "      <td>2015</td>\n",
       "      <td>1</td>\n",
       "      <td>101926.0</td>\n",
       "    </tr>\n",
       "    <tr>\n",
       "      <th>2</th>\n",
       "      <td>2016</td>\n",
       "      <td>0</td>\n",
       "      <td>3027340.0</td>\n",
       "    </tr>\n",
       "    <tr>\n",
       "      <th>3</th>\n",
       "      <td>2016</td>\n",
       "      <td>1</td>\n",
       "      <td>284004.0</td>\n",
       "    </tr>\n",
       "    <tr>\n",
       "      <th>4</th>\n",
       "      <td>2017</td>\n",
       "      <td>0</td>\n",
       "      <td>2770647.0</td>\n",
       "    </tr>\n",
       "    <tr>\n",
       "      <th>5</th>\n",
       "      <td>2017</td>\n",
       "      <td>1</td>\n",
       "      <td>290043.0</td>\n",
       "    </tr>\n",
       "    <tr>\n",
       "      <th>6</th>\n",
       "      <td>2018</td>\n",
       "      <td>0</td>\n",
       "      <td>1337529.0</td>\n",
       "    </tr>\n",
       "    <tr>\n",
       "      <th>7</th>\n",
       "      <td>2018</td>\n",
       "      <td>1</td>\n",
       "      <td>155990.0</td>\n",
       "    </tr>\n",
       "  </tbody>\n",
       "</table>\n",
       "</div>"
      ],
      "text/plain": [
       "   year  promotion_text      units\n",
       "0  2015               0  1159572.0\n",
       "1  2015               1   101926.0\n",
       "2  2016               0  3027340.0\n",
       "3  2016               1   284004.0\n",
       "4  2017               0  2770647.0\n",
       "5  2017               1   290043.0\n",
       "6  2018               0  1337529.0\n",
       "7  2018               1   155990.0"
      ]
     },
     "execution_count": 95,
     "metadata": {},
     "output_type": "execute_result"
    }
   ],
   "source": [
    "promotion_units"
   ]
  },
  {
   "cell_type": "code",
   "execution_count": 76,
   "metadata": {},
   "outputs": [],
   "source": [
    "promotion_units.to_csv(r\"C:\\Users\\SrishtiNagu\\Desktop\\DDRS12\\CAPSTONE\\DATA\\cleaned_data\\data_promotion_units.csv\")"
   ]
  },
  {
   "cell_type": "code",
   "execution_count": 96,
   "metadata": {},
   "outputs": [],
   "source": [
    "promotion_sales1=df_POS1.groupby([\"year\", \"promotion_text\"],as_index=False)[\"sales\"].sum()"
   ]
  },
  {
   "cell_type": "code",
   "execution_count": 98,
   "metadata": {},
   "outputs": [],
   "source": [
    "promotion_sales1.to_csv(r\"C:\\Users\\SrishtiNagu\\Desktop\\DDRS12\\CAPSTONE\\DATA\\cleaned_data\\data_promotion_sales1.csv\")"
   ]
  },
  {
   "cell_type": "markdown",
   "metadata": {},
   "source": [
    "HOLIDAYS FINAL"
   ]
  },
  {
   "cell_type": "code",
   "execution_count": 36,
   "metadata": {},
   "outputs": [],
   "source": [
    "holiday_sales1=POS1.groupby([\"year\", \"holiday_name\"],as_index=False)[\"sales\"].sum()"
   ]
  },
  {
   "cell_type": "code",
   "execution_count": 37,
   "metadata": {},
   "outputs": [
    {
     "data": {
      "text/html": [
       "<div>\n",
       "<style scoped>\n",
       "    .dataframe tbody tr th:only-of-type {\n",
       "        vertical-align: middle;\n",
       "    }\n",
       "\n",
       "    .dataframe tbody tr th {\n",
       "        vertical-align: top;\n",
       "    }\n",
       "\n",
       "    .dataframe thead th {\n",
       "        text-align: right;\n",
       "    }\n",
       "</style>\n",
       "<table border=\"1\" class=\"dataframe\">\n",
       "  <thead>\n",
       "    <tr style=\"text-align: right;\">\n",
       "      <th></th>\n",
       "      <th>year</th>\n",
       "      <th>holiday_name</th>\n",
       "      <th>sales</th>\n",
       "    </tr>\n",
       "  </thead>\n",
       "  <tbody>\n",
       "    <tr>\n",
       "      <th>0</th>\n",
       "      <td>2015</td>\n",
       "      <td>0</td>\n",
       "      <td>4.418572e+07</td>\n",
       "    </tr>\n",
       "    <tr>\n",
       "      <th>1</th>\n",
       "      <td>2015</td>\n",
       "      <td>1</td>\n",
       "      <td>3.241440e+06</td>\n",
       "    </tr>\n",
       "    <tr>\n",
       "      <th>2</th>\n",
       "      <td>2016</td>\n",
       "      <td>0</td>\n",
       "      <td>1.182677e+08</td>\n",
       "    </tr>\n",
       "    <tr>\n",
       "      <th>3</th>\n",
       "      <td>2016</td>\n",
       "      <td>1</td>\n",
       "      <td>5.273576e+06</td>\n",
       "    </tr>\n",
       "    <tr>\n",
       "      <th>4</th>\n",
       "      <td>2017</td>\n",
       "      <td>0</td>\n",
       "      <td>1.003419e+08</td>\n",
       "    </tr>\n",
       "    <tr>\n",
       "      <th>5</th>\n",
       "      <td>2017</td>\n",
       "      <td>1</td>\n",
       "      <td>4.801927e+06</td>\n",
       "    </tr>\n",
       "    <tr>\n",
       "      <th>6</th>\n",
       "      <td>2018</td>\n",
       "      <td>0</td>\n",
       "      <td>4.878674e+07</td>\n",
       "    </tr>\n",
       "    <tr>\n",
       "      <th>7</th>\n",
       "      <td>2018</td>\n",
       "      <td>1</td>\n",
       "      <td>2.226471e+06</td>\n",
       "    </tr>\n",
       "  </tbody>\n",
       "</table>\n",
       "</div>"
      ],
      "text/plain": [
       "   year  holiday_name         sales\n",
       "0  2015             0  4.418572e+07\n",
       "1  2015             1  3.241440e+06\n",
       "2  2016             0  1.182677e+08\n",
       "3  2016             1  5.273576e+06\n",
       "4  2017             0  1.003419e+08\n",
       "5  2017             1  4.801927e+06\n",
       "6  2018             0  4.878674e+07\n",
       "7  2018             1  2.226471e+06"
      ]
     },
     "execution_count": 37,
     "metadata": {},
     "output_type": "execute_result"
    }
   ],
   "source": [
    "holiday_sales1"
   ]
  },
  {
   "cell_type": "code",
   "execution_count": 102,
   "metadata": {},
   "outputs": [],
   "source": [
    "holiday_sales1.to_csv(r\"C:\\Users\\SrishtiNagu\\Desktop\\DDRS12\\CAPSTONE\\DATA\\cleaned_data\\data_holiday_sales1.csv\")"
   ]
  },
  {
   "cell_type": "code",
   "execution_count": 104,
   "metadata": {},
   "outputs": [],
   "source": [
    "holiday_units1=df_POS1.groupby([\"year\", \"holiday_name\"],as_index=False)[\"units\"].sum()"
   ]
  },
  {
   "cell_type": "code",
   "execution_count": 105,
   "metadata": {},
   "outputs": [],
   "source": [
    "holiday_units1.to_csv(r\"C:\\Users\\SrishtiNagu\\Desktop\\DDRS12\\CAPSTONE\\DATA\\cleaned_data\\data_holiday_units1.csv\")"
   ]
  },
  {
   "cell_type": "markdown",
   "metadata": {},
   "source": [
    "HEATMAP--->>>"
   ]
  },
  {
   "cell_type": "code",
   "execution_count": 38,
   "metadata": {},
   "outputs": [],
   "source": [
    "corr=POS1[['store_id','sku_id','online_flag','sales','units','margin','cost_price','population_female','disposable_income_per_capita']]"
   ]
  },
  {
   "cell_type": "code",
   "execution_count": 39,
   "metadata": {},
   "outputs": [
    {
     "name": "stdout",
     "output_type": "stream",
     "text": [
      "<class 'pandas.core.frame.DataFrame'>\n",
      "RangeIndex: 8638512 entries, 0 to 8638511\n",
      "Data columns (total 9 columns):\n",
      " #   Column                        Dtype  \n",
      "---  ------                        -----  \n",
      " 0   store_id                      int64  \n",
      " 1   sku_id                        int64  \n",
      " 2   online_flag                   int64  \n",
      " 3   sales                         float64\n",
      " 4   units                         float64\n",
      " 5   margin                        float64\n",
      " 6   cost_price                    float64\n",
      " 7   population_female             int64  \n",
      " 8   disposable_income_per_capita  int64  \n",
      "dtypes: float64(4), int64(5)\n",
      "memory usage: 593.2 MB\n"
     ]
    }
   ],
   "source": [
    "corr.info()"
   ]
  },
  {
   "cell_type": "code",
   "execution_count": 133,
   "metadata": {},
   "outputs": [],
   "source": [
    "cor=POS1[['sales','margin','cost_price','units','total_searches','population_female','disposable_income_per_capita']].corr()"
   ]
  },
  {
   "cell_type": "code",
   "execution_count": 134,
   "metadata": {},
   "outputs": [
    {
     "data": {
      "text/plain": [
       "<matplotlib.axes._subplots.AxesSubplot at 0x2153a4b3e08>"
      ]
     },
     "execution_count": 134,
     "metadata": {},
     "output_type": "execute_result"
    },
    {
     "data": {
      "image/png": "[encoded data removed]",
      "text/plain": [
       "<Figure size 432x288 with 2 Axes>"
      ]
     },
     "metadata": {
      "needs_background": "light"
     },
     "output_type": "display_data"
    }
   ],
   "source": [
    "import seaborn as sns\n",
    "\n",
    "sns.heatmap(cor,annot=True)\n"
   ]
  },
  {
   "cell_type": "code",
   "execution_count": null,
   "metadata": {},
   "outputs": [],
   "source": [
    "# HYPOTHESIS:LOWER THE PRICE, LARGER THE NUMBER OF UNITS SOLD"
   ]
  },
  {
   "cell_type": "markdown",
   "metadata": {},
   "source": [
    "8. HYPOTHESIS:LOWER THE PRICE, LARGER THE NUMBER OF UNITS SOLD"
   ]
  },
  {
   "cell_type": "code",
   "execution_count": 41,
   "metadata": {},
   "outputs": [],
   "source": [
    "POS3=POS1[(POS1['class_name']=='REFINED DRESSES')]"
   ]
  },
  {
   "cell_type": "code",
   "execution_count": 42,
   "metadata": {},
   "outputs": [
    {
     "data": {
      "text/plain": [
       "class_name  subclass_name\n",
       "False       False            1.239205e+08\n",
       "            True             5.683666e+07\n",
       "True        False            1.171239e+08\n",
       "            True             2.924440e+07\n",
       "Name: sales, dtype: float64"
      ]
     },
     "execution_count": 42,
     "metadata": {},
     "output_type": "execute_result"
    }
   ],
   "source": [
    "POS1.groupby([POS1['class_name']=='REFINED DRESSES',POS1['subclass_name']=='WOVENS'])[\"sales\"].sum()"
   ]
  },
  {
   "cell_type": "code",
   "execution_count": 43,
   "metadata": {},
   "outputs": [],
   "source": [
    "\n",
    "POS1['test']=POS1.groupby(['class_name','subclass_name'])[\"sales\"].transform('sum').round(5)"
   ]
  },
  {
   "cell_type": "code",
   "execution_count": 256,
   "metadata": {},
   "outputs": [
    {
     "data": {
      "image/png": "[encoded data removed]",
      "text/plain": [
       "<Figure size 432x288 with 1 Axes>"
      ]
     },
     "metadata": {
      "needs_background": "light"
     },
     "output_type": "display_data"
    },
    {
     "data": {
      "image/png": "[encoded data removed]",
      "text/plain": [
       "<Figure size 432x288 with 1 Axes>"
      ]
     },
     "metadata": {
      "needs_background": "light"
     },
     "output_type": "display_data"
    },
    {
     "data": {
      "image/png": "[encoded data removed]",
      "text/plain": [
       "<Figure size 432x288 with 1 Axes>"
      ]
     },
     "metadata": {
      "needs_background": "light"
     },
     "output_type": "display_data"
    },
    {
     "data": {
      "image/png": "[encoded data removed]",
      "text/plain": [
       "<Figure size 432x288 with 1 Axes>"
      ]
     },
     "metadata": {
      "needs_background": "light"
     },
     "output_type": "display_data"
    },
    {
     "data": {
      "image/png": "[encoded data removed]",
      "text/plain": [
       "<Figure size 432x288 with 1 Axes>"
      ]
     },
     "metadata": {
      "needs_background": "light"
     },
     "output_type": "display_data"
    },
    {
     "data": {
      "image/png": "[encoded data removed]",
      "text/plain": [
       "<Figure size 432x288 with 1 Axes>"
      ]
     },
     "metadata": {
      "needs_background": "light"
     },
     "output_type": "display_data"
    }
   ],
   "source": [
    "for i in POS1['class_name'].unique():\n",
    "    print(i,'\\n')\n",
    "    POS1[POS1['class_name']==i][['sales','units']].plot(x='sales',y='units',kind='scatter')\n",
    "    plt.show()"
   ]
  },
  {
   "cell_type": "code",
   "execution_count": 44,
   "metadata": {},
   "outputs": [],
   "source": [
    "cat_sales2=POS1.groupby(['class_name','subclass_name']).agg({'sales_d':'sum','units':'sum'})"
   ]
  },
  {
   "cell_type": "code",
   "execution_count": 45,
   "metadata": {},
   "outputs": [
    {
     "data": {
      "text/html": [
       "<div>\n",
       "<style scoped>\n",
       "    .dataframe tbody tr th:only-of-type {\n",
       "        vertical-align: middle;\n",
       "    }\n",
       "\n",
       "    .dataframe tbody tr th {\n",
       "        vertical-align: top;\n",
       "    }\n",
       "\n",
       "    .dataframe thead th {\n",
       "        text-align: right;\n",
       "    }\n",
       "</style>\n",
       "<table border=\"1\" class=\"dataframe\">\n",
       "  <thead>\n",
       "    <tr style=\"text-align: right;\">\n",
       "      <th></th>\n",
       "      <th></th>\n",
       "      <th>sales_d</th>\n",
       "      <th>units</th>\n",
       "    </tr>\n",
       "    <tr>\n",
       "      <th>class_name</th>\n",
       "      <th>subclass_name</th>\n",
       "      <th></th>\n",
       "      <th></th>\n",
       "    </tr>\n",
       "  </thead>\n",
       "  <tbody>\n",
       "    <tr>\n",
       "      <th rowspan=\"2\" valign=\"top\">CASUAL DRESSES</th>\n",
       "      <th>KNITS</th>\n",
       "      <td>1.122105e+07</td>\n",
       "      <td>343852.5</td>\n",
       "    </tr>\n",
       "    <tr>\n",
       "      <th>WOVENS</th>\n",
       "      <td>1.808352e+07</td>\n",
       "      <td>555781.0</td>\n",
       "    </tr>\n",
       "    <tr>\n",
       "      <th>DUMMY CLASS</th>\n",
       "      <th>DUMMY SUBCLASS</th>\n",
       "      <td>1.052063e+05</td>\n",
       "      <td>5938.0</td>\n",
       "    </tr>\n",
       "    <tr>\n",
       "      <th rowspan=\"2\" valign=\"top\">REFINED DRESSES</th>\n",
       "      <th>KNITS</th>\n",
       "      <td>1.112894e+08</td>\n",
       "      <td>3303640.5</td>\n",
       "    </tr>\n",
       "    <tr>\n",
       "      <th>WOVENS</th>\n",
       "      <td>2.786725e+07</td>\n",
       "      <td>849598.5</td>\n",
       "    </tr>\n",
       "    <tr>\n",
       "      <th rowspan=\"3\" valign=\"top\">SPECIAL OCCASION DAY</th>\n",
       "      <th>KNITS</th>\n",
       "      <td>8.630705e+06</td>\n",
       "      <td>261281.0</td>\n",
       "    </tr>\n",
       "    <tr>\n",
       "      <th>LACE</th>\n",
       "      <td>1.871204e+07</td>\n",
       "      <td>534262.0</td>\n",
       "    </tr>\n",
       "    <tr>\n",
       "      <th>WOVENS</th>\n",
       "      <td>1.631726e+07</td>\n",
       "      <td>537424.0</td>\n",
       "    </tr>\n",
       "    <tr>\n",
       "      <th rowspan=\"3\" valign=\"top\">SPECIAL OCCASION EVENING</th>\n",
       "      <th>KNITS</th>\n",
       "      <td>2.835743e+07</td>\n",
       "      <td>747051.5</td>\n",
       "    </tr>\n",
       "    <tr>\n",
       "      <th>LACE</th>\n",
       "      <td>2.526326e+07</td>\n",
       "      <td>634322.0</td>\n",
       "    </tr>\n",
       "    <tr>\n",
       "      <th>WOVENS</th>\n",
       "      <td>1.953606e+07</td>\n",
       "      <td>514347.0</td>\n",
       "    </tr>\n",
       "    <tr>\n",
       "      <th rowspan=\"3\" valign=\"top\">SPECIAL OCCASION SEPARATES</th>\n",
       "      <th>BOTTOMS</th>\n",
       "      <td>6.730385e+06</td>\n",
       "      <td>218682.0</td>\n",
       "    </tr>\n",
       "    <tr>\n",
       "      <th>JACKETS</th>\n",
       "      <td>1.949866e+06</td>\n",
       "      <td>76059.0</td>\n",
       "    </tr>\n",
       "    <tr>\n",
       "      <th>TOPS</th>\n",
       "      <td>1.709343e+07</td>\n",
       "      <td>544812.0</td>\n",
       "    </tr>\n",
       "  </tbody>\n",
       "</table>\n",
       "</div>"
      ],
      "text/plain": [
       "                                                sales_d      units\n",
       "class_name                 subclass_name                          \n",
       "CASUAL DRESSES             KNITS           1.122105e+07   343852.5\n",
       "                           WOVENS          1.808352e+07   555781.0\n",
       "DUMMY CLASS                DUMMY SUBCLASS  1.052063e+05     5938.0\n",
       "REFINED DRESSES            KNITS           1.112894e+08  3303640.5\n",
       "                           WOVENS          2.786725e+07   849598.5\n",
       "SPECIAL OCCASION DAY       KNITS           8.630705e+06   261281.0\n",
       "                           LACE            1.871204e+07   534262.0\n",
       "                           WOVENS          1.631726e+07   537424.0\n",
       "SPECIAL OCCASION EVENING   KNITS           2.835743e+07   747051.5\n",
       "                           LACE            2.526326e+07   634322.0\n",
       "                           WOVENS          1.953606e+07   514347.0\n",
       "SPECIAL OCCASION SEPARATES BOTTOMS         6.730385e+06   218682.0\n",
       "                           JACKETS         1.949866e+06    76059.0\n",
       "                           TOPS            1.709343e+07   544812.0"
      ]
     },
     "execution_count": 45,
     "metadata": {},
     "output_type": "execute_result"
    }
   ],
   "source": [
    "cat_sales2"
   ]
  },
  {
   "cell_type": "markdown",
   "metadata": {},
   "source": [
    "STORE TYPE"
   ]
  },
  {
   "cell_type": "code",
   "execution_count": null,
   "metadata": {},
   "outputs": [],
   "source": [
    "C:\\Users\\SrishtiNagu\\Desktop\\DDRS12\\CAPSTONE\\DATA\\cleaned_data"
   ]
  },
  {
   "cell_type": "code",
   "execution_count": 46,
   "metadata": {},
   "outputs": [
    {
     "data": {
      "text/html": [
       "<div>\n",
       "<style scoped>\n",
       "    .dataframe tbody tr th:only-of-type {\n",
       "        vertical-align: middle;\n",
       "    }\n",
       "\n",
       "    .dataframe tbody tr th {\n",
       "        vertical-align: top;\n",
       "    }\n",
       "\n",
       "    .dataframe thead th {\n",
       "        text-align: right;\n",
       "    }\n",
       "</style>\n",
       "<table border=\"1\" class=\"dataframe\">\n",
       "  <thead>\n",
       "    <tr style=\"text-align: right;\">\n",
       "      <th></th>\n",
       "      <th>date</th>\n",
       "      <th>store_id</th>\n",
       "      <th>sku_id</th>\n",
       "      <th>online_flag</th>\n",
       "      <th>sales</th>\n",
       "      <th>units</th>\n",
       "      <th>margin</th>\n",
       "      <th>cost_price</th>\n",
       "      <th>sales_d</th>\n",
       "      <th>margin_d</th>\n",
       "      <th>...</th>\n",
       "      <th>percentage_race_native_indian</th>\n",
       "      <th>disposable_income_per_capita</th>\n",
       "      <th>median_household_income</th>\n",
       "      <th>total_searches</th>\n",
       "      <th>holiday_name</th>\n",
       "      <th>promotion_text</th>\n",
       "      <th>fp_nfp</th>\n",
       "      <th>year</th>\n",
       "      <th>month</th>\n",
       "      <th>test</th>\n",
       "    </tr>\n",
       "    <tr>\n",
       "      <th>store_type</th>\n",
       "      <th></th>\n",
       "      <th></th>\n",
       "      <th></th>\n",
       "      <th></th>\n",
       "      <th></th>\n",
       "      <th></th>\n",
       "      <th></th>\n",
       "      <th></th>\n",
       "      <th></th>\n",
       "      <th></th>\n",
       "      <th></th>\n",
       "      <th></th>\n",
       "      <th></th>\n",
       "      <th></th>\n",
       "      <th></th>\n",
       "      <th></th>\n",
       "      <th></th>\n",
       "      <th></th>\n",
       "      <th></th>\n",
       "      <th></th>\n",
       "      <th></th>\n",
       "    </tr>\n",
       "  </thead>\n",
       "  <tbody>\n",
       "    <tr>\n",
       "      <th>Downtown Store</th>\n",
       "      <td>218202</td>\n",
       "      <td>218202</td>\n",
       "      <td>218202</td>\n",
       "      <td>218202</td>\n",
       "      <td>218202</td>\n",
       "      <td>218202</td>\n",
       "      <td>218202</td>\n",
       "      <td>218202</td>\n",
       "      <td>218202</td>\n",
       "      <td>218202</td>\n",
       "      <td>...</td>\n",
       "      <td>218202</td>\n",
       "      <td>218202</td>\n",
       "      <td>218202</td>\n",
       "      <td>218202</td>\n",
       "      <td>218202</td>\n",
       "      <td>218202</td>\n",
       "      <td>218202</td>\n",
       "      <td>218202</td>\n",
       "      <td>218202</td>\n",
       "      <td>218202</td>\n",
       "    </tr>\n",
       "    <tr>\n",
       "      <th>Freestanding Store</th>\n",
       "      <td>43521</td>\n",
       "      <td>43521</td>\n",
       "      <td>43521</td>\n",
       "      <td>43521</td>\n",
       "      <td>43521</td>\n",
       "      <td>43521</td>\n",
       "      <td>43521</td>\n",
       "      <td>43521</td>\n",
       "      <td>43521</td>\n",
       "      <td>43521</td>\n",
       "      <td>...</td>\n",
       "      <td>43521</td>\n",
       "      <td>43521</td>\n",
       "      <td>43521</td>\n",
       "      <td>43521</td>\n",
       "      <td>43521</td>\n",
       "      <td>43521</td>\n",
       "      <td>43521</td>\n",
       "      <td>43521</td>\n",
       "      <td>43521</td>\n",
       "      <td>43521</td>\n",
       "    </tr>\n",
       "    <tr>\n",
       "      <th>Lifestyle Center</th>\n",
       "      <td>57803</td>\n",
       "      <td>57803</td>\n",
       "      <td>57803</td>\n",
       "      <td>57803</td>\n",
       "      <td>57803</td>\n",
       "      <td>57803</td>\n",
       "      <td>57803</td>\n",
       "      <td>57803</td>\n",
       "      <td>57803</td>\n",
       "      <td>57803</td>\n",
       "      <td>...</td>\n",
       "      <td>57803</td>\n",
       "      <td>57803</td>\n",
       "      <td>57803</td>\n",
       "      <td>57803</td>\n",
       "      <td>57803</td>\n",
       "      <td>57803</td>\n",
       "      <td>57803</td>\n",
       "      <td>57803</td>\n",
       "      <td>57803</td>\n",
       "      <td>57803</td>\n",
       "    </tr>\n",
       "    <tr>\n",
       "      <th>Mega Outlet Mall</th>\n",
       "      <td>188799</td>\n",
       "      <td>188799</td>\n",
       "      <td>188799</td>\n",
       "      <td>188799</td>\n",
       "      <td>188799</td>\n",
       "      <td>188799</td>\n",
       "      <td>188799</td>\n",
       "      <td>188799</td>\n",
       "      <td>188799</td>\n",
       "      <td>188799</td>\n",
       "      <td>...</td>\n",
       "      <td>188799</td>\n",
       "      <td>188799</td>\n",
       "      <td>188799</td>\n",
       "      <td>188799</td>\n",
       "      <td>188799</td>\n",
       "      <td>188799</td>\n",
       "      <td>188799</td>\n",
       "      <td>188799</td>\n",
       "      <td>188799</td>\n",
       "      <td>188799</td>\n",
       "    </tr>\n",
       "    <tr>\n",
       "      <th>Mini Mall</th>\n",
       "      <td>42994</td>\n",
       "      <td>42994</td>\n",
       "      <td>42994</td>\n",
       "      <td>42994</td>\n",
       "      <td>42994</td>\n",
       "      <td>42994</td>\n",
       "      <td>42994</td>\n",
       "      <td>42994</td>\n",
       "      <td>42994</td>\n",
       "      <td>42994</td>\n",
       "      <td>...</td>\n",
       "      <td>42994</td>\n",
       "      <td>42994</td>\n",
       "      <td>42994</td>\n",
       "      <td>42994</td>\n",
       "      <td>42994</td>\n",
       "      <td>42994</td>\n",
       "      <td>42994</td>\n",
       "      <td>42994</td>\n",
       "      <td>42994</td>\n",
       "      <td>42994</td>\n",
       "    </tr>\n",
       "    <tr>\n",
       "      <th>Outlet Mall</th>\n",
       "      <td>180661</td>\n",
       "      <td>180661</td>\n",
       "      <td>180661</td>\n",
       "      <td>180661</td>\n",
       "      <td>180661</td>\n",
       "      <td>180661</td>\n",
       "      <td>180661</td>\n",
       "      <td>180661</td>\n",
       "      <td>180661</td>\n",
       "      <td>180661</td>\n",
       "      <td>...</td>\n",
       "      <td>180661</td>\n",
       "      <td>180661</td>\n",
       "      <td>180661</td>\n",
       "      <td>180661</td>\n",
       "      <td>180661</td>\n",
       "      <td>180661</td>\n",
       "      <td>180661</td>\n",
       "      <td>180661</td>\n",
       "      <td>180661</td>\n",
       "      <td>180661</td>\n",
       "    </tr>\n",
       "    <tr>\n",
       "      <th>Outlet Strip</th>\n",
       "      <td>1291611</td>\n",
       "      <td>1291611</td>\n",
       "      <td>1291611</td>\n",
       "      <td>1291611</td>\n",
       "      <td>1291611</td>\n",
       "      <td>1291611</td>\n",
       "      <td>1291611</td>\n",
       "      <td>1291611</td>\n",
       "      <td>1291611</td>\n",
       "      <td>1291611</td>\n",
       "      <td>...</td>\n",
       "      <td>1291611</td>\n",
       "      <td>1291611</td>\n",
       "      <td>1291611</td>\n",
       "      <td>1291611</td>\n",
       "      <td>1291611</td>\n",
       "      <td>1291611</td>\n",
       "      <td>1291611</td>\n",
       "      <td>1291611</td>\n",
       "      <td>1291611</td>\n",
       "      <td>1291611</td>\n",
       "    </tr>\n",
       "    <tr>\n",
       "      <th>Power Strip</th>\n",
       "      <td>2637840</td>\n",
       "      <td>2637840</td>\n",
       "      <td>2637840</td>\n",
       "      <td>2637840</td>\n",
       "      <td>2637840</td>\n",
       "      <td>2637840</td>\n",
       "      <td>2637840</td>\n",
       "      <td>2637840</td>\n",
       "      <td>2637840</td>\n",
       "      <td>2637840</td>\n",
       "      <td>...</td>\n",
       "      <td>2637840</td>\n",
       "      <td>2637840</td>\n",
       "      <td>2637840</td>\n",
       "      <td>2637840</td>\n",
       "      <td>2637840</td>\n",
       "      <td>2637840</td>\n",
       "      <td>2637840</td>\n",
       "      <td>2637840</td>\n",
       "      <td>2637840</td>\n",
       "      <td>2637840</td>\n",
       "    </tr>\n",
       "    <tr>\n",
       "      <th>Regional Mall</th>\n",
       "      <td>397003</td>\n",
       "      <td>397003</td>\n",
       "      <td>397003</td>\n",
       "      <td>397003</td>\n",
       "      <td>397003</td>\n",
       "      <td>397003</td>\n",
       "      <td>397003</td>\n",
       "      <td>397003</td>\n",
       "      <td>397003</td>\n",
       "      <td>397003</td>\n",
       "      <td>...</td>\n",
       "      <td>397003</td>\n",
       "      <td>397003</td>\n",
       "      <td>397003</td>\n",
       "      <td>397003</td>\n",
       "      <td>397003</td>\n",
       "      <td>397003</td>\n",
       "      <td>397003</td>\n",
       "      <td>397003</td>\n",
       "      <td>397003</td>\n",
       "      <td>397003</td>\n",
       "    </tr>\n",
       "    <tr>\n",
       "      <th>Strip Store</th>\n",
       "      <td>3381714</td>\n",
       "      <td>3381714</td>\n",
       "      <td>3381714</td>\n",
       "      <td>3381714</td>\n",
       "      <td>3381714</td>\n",
       "      <td>3381714</td>\n",
       "      <td>3381714</td>\n",
       "      <td>3381714</td>\n",
       "      <td>3381714</td>\n",
       "      <td>3381714</td>\n",
       "      <td>...</td>\n",
       "      <td>3381714</td>\n",
       "      <td>3381714</td>\n",
       "      <td>3381714</td>\n",
       "      <td>3381714</td>\n",
       "      <td>3381714</td>\n",
       "      <td>3381714</td>\n",
       "      <td>3381714</td>\n",
       "      <td>3381714</td>\n",
       "      <td>3381714</td>\n",
       "      <td>3381714</td>\n",
       "    </tr>\n",
       "    <tr>\n",
       "      <th>Tourist Outlet Mall</th>\n",
       "      <td>20032</td>\n",
       "      <td>20032</td>\n",
       "      <td>20032</td>\n",
       "      <td>20032</td>\n",
       "      <td>20032</td>\n",
       "      <td>20032</td>\n",
       "      <td>20032</td>\n",
       "      <td>20032</td>\n",
       "      <td>20032</td>\n",
       "      <td>20032</td>\n",
       "      <td>...</td>\n",
       "      <td>20032</td>\n",
       "      <td>20032</td>\n",
       "      <td>20032</td>\n",
       "      <td>20032</td>\n",
       "      <td>20032</td>\n",
       "      <td>20032</td>\n",
       "      <td>20032</td>\n",
       "      <td>20032</td>\n",
       "      <td>20032</td>\n",
       "      <td>20032</td>\n",
       "    </tr>\n",
       "    <tr>\n",
       "      <th>Tourist Outlet Strip</th>\n",
       "      <td>178332</td>\n",
       "      <td>178332</td>\n",
       "      <td>178332</td>\n",
       "      <td>178332</td>\n",
       "      <td>178332</td>\n",
       "      <td>178332</td>\n",
       "      <td>178332</td>\n",
       "      <td>178332</td>\n",
       "      <td>178332</td>\n",
       "      <td>178332</td>\n",
       "      <td>...</td>\n",
       "      <td>178332</td>\n",
       "      <td>178332</td>\n",
       "      <td>178332</td>\n",
       "      <td>178332</td>\n",
       "      <td>178332</td>\n",
       "      <td>178332</td>\n",
       "      <td>178332</td>\n",
       "      <td>178332</td>\n",
       "      <td>178332</td>\n",
       "      <td>178332</td>\n",
       "    </tr>\n",
       "  </tbody>\n",
       "</table>\n",
       "<p>12 rows × 38 columns</p>\n",
       "</div>"
      ],
      "text/plain": [
       "                         date  store_id   sku_id  online_flag    sales  \\\n",
       "store_type                                                               \n",
       "Downtown Store         218202    218202   218202       218202   218202   \n",
       "Freestanding Store      43521     43521    43521        43521    43521   \n",
       "Lifestyle Center        57803     57803    57803        57803    57803   \n",
       "Mega Outlet Mall       188799    188799   188799       188799   188799   \n",
       "Mini Mall               42994     42994    42994        42994    42994   \n",
       "Outlet Mall            180661    180661   180661       180661   180661   \n",
       "Outlet Strip          1291611   1291611  1291611      1291611  1291611   \n",
       "Power Strip           2637840   2637840  2637840      2637840  2637840   \n",
       "Regional Mall          397003    397003   397003       397003   397003   \n",
       "Strip Store           3381714   3381714  3381714      3381714  3381714   \n",
       "Tourist Outlet Mall     20032     20032    20032        20032    20032   \n",
       "Tourist Outlet Strip   178332    178332   178332       178332   178332   \n",
       "\n",
       "                        units   margin  cost_price  sales_d  margin_d  ...  \\\n",
       "store_type                                                             ...   \n",
       "Downtown Store         218202   218202      218202   218202    218202  ...   \n",
       "Freestanding Store      43521    43521       43521    43521     43521  ...   \n",
       "Lifestyle Center        57803    57803       57803    57803     57803  ...   \n",
       "Mega Outlet Mall       188799   188799      188799   188799    188799  ...   \n",
       "Mini Mall               42994    42994       42994    42994     42994  ...   \n",
       "Outlet Mall            180661   180661      180661   180661    180661  ...   \n",
       "Outlet Strip          1291611  1291611     1291611  1291611   1291611  ...   \n",
       "Power Strip           2637840  2637840     2637840  2637840   2637840  ...   \n",
       "Regional Mall          397003   397003      397003   397003    397003  ...   \n",
       "Strip Store           3381714  3381714     3381714  3381714   3381714  ...   \n",
       "Tourist Outlet Mall     20032    20032       20032    20032     20032  ...   \n",
       "Tourist Outlet Strip   178332   178332      178332   178332    178332  ...   \n",
       "\n",
       "                      percentage_race_native_indian  \\\n",
       "store_type                                            \n",
       "Downtown Store                               218202   \n",
       "Freestanding Store                            43521   \n",
       "Lifestyle Center                              57803   \n",
       "Mega Outlet Mall                             188799   \n",
       "Mini Mall                                     42994   \n",
       "Outlet Mall                                  180661   \n",
       "Outlet Strip                                1291611   \n",
       "Power Strip                                 2637840   \n",
       "Regional Mall                                397003   \n",
       "Strip Store                                 3381714   \n",
       "Tourist Outlet Mall                           20032   \n",
       "Tourist Outlet Strip                         178332   \n",
       "\n",
       "                      disposable_income_per_capita  median_household_income  \\\n",
       "store_type                                                                    \n",
       "Downtown Store                              218202                   218202   \n",
       "Freestanding Store                           43521                    43521   \n",
       "Lifestyle Center                             57803                    57803   \n",
       "Mega Outlet Mall                            188799                   188799   \n",
       "Mini Mall                                    42994                    42994   \n",
       "Outlet Mall                                 180661                   180661   \n",
       "Outlet Strip                               1291611                  1291611   \n",
       "Power Strip                                2637840                  2637840   \n",
       "Regional Mall                               397003                   397003   \n",
       "Strip Store                                3381714                  3381714   \n",
       "Tourist Outlet Mall                          20032                    20032   \n",
       "Tourist Outlet Strip                        178332                   178332   \n",
       "\n",
       "                      total_searches  holiday_name  promotion_text   fp_nfp  \\\n",
       "store_type                                                                    \n",
       "Downtown Store                218202        218202          218202   218202   \n",
       "Freestanding Store             43521         43521           43521    43521   \n",
       "Lifestyle Center               57803         57803           57803    57803   \n",
       "Mega Outlet Mall              188799        188799          188799   188799   \n",
       "Mini Mall                      42994         42994           42994    42994   \n",
       "Outlet Mall                   180661        180661          180661   180661   \n",
       "Outlet Strip                 1291611       1291611         1291611  1291611   \n",
       "Power Strip                  2637840       2637840         2637840  2637840   \n",
       "Regional Mall                 397003        397003          397003   397003   \n",
       "Strip Store                  3381714       3381714         3381714  3381714   \n",
       "Tourist Outlet Mall            20032         20032           20032    20032   \n",
       "Tourist Outlet Strip          178332        178332          178332   178332   \n",
       "\n",
       "                         year    month     test  \n",
       "store_type                                       \n",
       "Downtown Store         218202   218202   218202  \n",
       "Freestanding Store      43521    43521    43521  \n",
       "Lifestyle Center        57803    57803    57803  \n",
       "Mega Outlet Mall       188799   188799   188799  \n",
       "Mini Mall               42994    42994    42994  \n",
       "Outlet Mall            180661   180661   180661  \n",
       "Outlet Strip          1291611  1291611  1291611  \n",
       "Power Strip           2637840  2637840  2637840  \n",
       "Regional Mall          397003   397003   397003  \n",
       "Strip Store           3381714  3381714  3381714  \n",
       "Tourist Outlet Mall     20032    20032    20032  \n",
       "Tourist Outlet Strip   178332   178332   178332  \n",
       "\n",
       "[12 rows x 38 columns]"
      ]
     },
     "execution_count": 46,
     "metadata": {},
     "output_type": "execute_result"
    }
   ],
   "source": [
    "POS1.groupby(POS1['store_type']).count()"
   ]
  },
  {
   "cell_type": "code",
   "execution_count": 31,
   "metadata": {},
   "outputs": [],
   "source": [
    "\n",
    "cat_sales2.to_csv(r\"C:\\Users\\SrishtiNagu\\Desktop\\DDRS12\\CAPSTONE\\DATA\\cleaned_data\\data_cat_sales2.csv\")"
   ]
  },
  {
   "cell_type": "code",
   "execution_count": null,
   "metadata": {},
   "outputs": [],
   "source": [
    "plt.figure(figsize=(20,5))\n",
    "POS1.groupby(['class_name','subclass_name']).agg({'sales':'mean','units':'sum'})['sales'].plot()\n",
    "plt.show()\n",
    "plt.figure(figsize=(20,5))\n",
    "POS1.groupby(['class_name','subclass_name']).agg({'sales':'mean','units':'sum'})['units'].plot()\n",
    "plt.show()"
   ]
  },
  {
   "cell_type": "code",
   "execution_count": null,
   "metadata": {},
   "outputs": [],
   "source": [
    "fp_new.to_csv(r\"C:\\Users\\SrishtiNagu\\Desktop\\DDRS12\\CAPSTONE\\DATA\\cleaned_data\\data_fp_new.csv\")"
   ]
  },
  {
   "cell_type": "code",
   "execution_count": null,
   "metadata": {},
   "outputs": [
    {
     "data": {
      "text/html": [
       "<div>\n",
       "<style scoped>\n",
       "    .dataframe tbody tr th:only-of-type {\n",
       "        vertical-align: middle;\n",
       "    }\n",
       "\n",
       "    .dataframe tbody tr th {\n",
       "        vertical-align: top;\n",
       "    }\n",
       "\n",
       "    .dataframe thead th {\n",
       "        text-align: right;\n",
       "    }\n",
       "</style>\n",
       "<table border=\"1\" class=\"dataframe\">\n",
       "  <thead>\n",
       "    <tr style=\"text-align: right;\">\n",
       "      <th></th>\n",
       "      <th>fashion_pyd_new</th>\n",
       "      <th>sales</th>\n",
       "      <th>units</th>\n",
       "    </tr>\n",
       "  </thead>\n",
       "  <tbody>\n",
       "    <tr>\n",
       "      <th>0</th>\n",
       "      <td>10_1_5_knits_core</td>\n",
       "      <td>9.99</td>\n",
       "      <td>364.0</td>\n",
       "    </tr>\n",
       "    <tr>\n",
       "      <th>1</th>\n",
       "      <td>10_1_5_knits_core</td>\n",
       "      <td>10.00</td>\n",
       "      <td>2.0</td>\n",
       "    </tr>\n",
       "    <tr>\n",
       "      <th>2</th>\n",
       "      <td>10_1_5_knits_core</td>\n",
       "      <td>10.02</td>\n",
       "      <td>1.0</td>\n",
       "    </tr>\n",
       "    <tr>\n",
       "      <th>3</th>\n",
       "      <td>10_1_5_knits_core</td>\n",
       "      <td>10.04</td>\n",
       "      <td>1.0</td>\n",
       "    </tr>\n",
       "    <tr>\n",
       "      <th>4</th>\n",
       "      <td>10_1_5_knits_core</td>\n",
       "      <td>10.05</td>\n",
       "      <td>1.0</td>\n",
       "    </tr>\n",
       "  </tbody>\n",
       "</table>\n",
       "</div>"
      ],
      "text/plain": [
       "     fashion_pyd_new  sales  units\n",
       "0  10_1_5_knits_core   9.99  364.0\n",
       "1  10_1_5_knits_core  10.00    2.0\n",
       "2  10_1_5_knits_core  10.02    1.0\n",
       "3  10_1_5_knits_core  10.04    1.0\n",
       "4  10_1_5_knits_core  10.05    1.0"
      ]
     },
     "execution_count": 109,
     "metadata": {},
     "output_type": "execute_result"
    }
   ],
   "source": [
    "fp_new.head()"
   ]
  },
  {
   "cell_type": "markdown",
   "metadata": {},
   "source": [
    "53 product categories"
   ]
  },
  {
   "cell_type": "code",
   "execution_count": 10,
   "metadata": {},
   "outputs": [],
   "source": [
    "import pandas as pd\n",
    "import numpy as np\n",
    "fp_new=pd.read_csv(r'C:\\Users\\SrishtiNagu\\Desktop\\DDRS12\\CAPSTONE\\DATA\\cleaned_data\\data_fp_new.csv')"
   ]
  },
  {
   "cell_type": "code",
   "execution_count": 36,
   "metadata": {},
   "outputs": [
    {
     "data": {
      "text/html": [
       "<div>\n",
       "<style scoped>\n",
       "    .dataframe tbody tr th:only-of-type {\n",
       "        vertical-align: middle;\n",
       "    }\n",
       "\n",
       "    .dataframe tbody tr th {\n",
       "        vertical-align: top;\n",
       "    }\n",
       "\n",
       "    .dataframe thead th {\n",
       "        text-align: right;\n",
       "    }\n",
       "</style>\n",
       "<table border=\"1\" class=\"dataframe\">\n",
       "  <thead>\n",
       "    <tr style=\"text-align: right;\">\n",
       "      <th></th>\n",
       "      <th>fashion_pyd_new</th>\n",
       "      <th>sales</th>\n",
       "      <th>units</th>\n",
       "    </tr>\n",
       "  </thead>\n",
       "  <tbody>\n",
       "    <tr>\n",
       "      <th>0</th>\n",
       "      <td>10_1_5_knits_core</td>\n",
       "      <td>95.20</td>\n",
       "      <td>589.0</td>\n",
       "    </tr>\n",
       "    <tr>\n",
       "      <th>1</th>\n",
       "      <td>10_1_5_knits_fashion_driver</td>\n",
       "      <td>95.20</td>\n",
       "      <td>5955.0</td>\n",
       "    </tr>\n",
       "    <tr>\n",
       "      <th>2</th>\n",
       "      <td>10_1_5_knits_trend</td>\n",
       "      <td>95.20</td>\n",
       "      <td>406.0</td>\n",
       "    </tr>\n",
       "    <tr>\n",
       "      <th>3</th>\n",
       "      <td>10_1_6_wovens_core</td>\n",
       "      <td>95.20</td>\n",
       "      <td>1663.0</td>\n",
       "    </tr>\n",
       "    <tr>\n",
       "      <th>4</th>\n",
       "      <td>10_1_6_wovens_fashion_driver</td>\n",
       "      <td>95.20</td>\n",
       "      <td>7386.0</td>\n",
       "    </tr>\n",
       "    <tr>\n",
       "      <th>...</th>\n",
       "      <td>...</td>\n",
       "      <td>...</td>\n",
       "      <td>...</td>\n",
       "    </tr>\n",
       "    <tr>\n",
       "      <th>171979</th>\n",
       "      <td>10_5_52_jackets_core</td>\n",
       "      <td>9.99</td>\n",
       "      <td>116.0</td>\n",
       "    </tr>\n",
       "    <tr>\n",
       "      <th>171980</th>\n",
       "      <td>10_5_52_jackets_fashion_driver</td>\n",
       "      <td>9.99</td>\n",
       "      <td>617.0</td>\n",
       "    </tr>\n",
       "    <tr>\n",
       "      <th>171981</th>\n",
       "      <td>10_5_52_jackets_misc</td>\n",
       "      <td>9.99</td>\n",
       "      <td>19.0</td>\n",
       "    </tr>\n",
       "    <tr>\n",
       "      <th>171982</th>\n",
       "      <td>10_5_52_jackets_trend</td>\n",
       "      <td>9.99</td>\n",
       "      <td>379.0</td>\n",
       "    </tr>\n",
       "    <tr>\n",
       "      <th>171983</th>\n",
       "      <td>10_99_99_dummy_subclass_misc</td>\n",
       "      <td>9.99</td>\n",
       "      <td>80.0</td>\n",
       "    </tr>\n",
       "  </tbody>\n",
       "</table>\n",
       "<p>171984 rows × 3 columns</p>\n",
       "</div>"
      ],
      "text/plain": [
       "                       fashion_pyd_new  sales   units\n",
       "0                    10_1_5_knits_core  95.20   589.0\n",
       "1          10_1_5_knits_fashion_driver  95.20  5955.0\n",
       "2                   10_1_5_knits_trend  95.20   406.0\n",
       "3                   10_1_6_wovens_core  95.20  1663.0\n",
       "4         10_1_6_wovens_fashion_driver  95.20  7386.0\n",
       "...                                ...    ...     ...\n",
       "171979            10_5_52_jackets_core   9.99   116.0\n",
       "171980  10_5_52_jackets_fashion_driver   9.99   617.0\n",
       "171981            10_5_52_jackets_misc   9.99    19.0\n",
       "171982           10_5_52_jackets_trend   9.99   379.0\n",
       "171983    10_99_99_dummy_subclass_misc   9.99    80.0\n",
       "\n",
       "[171984 rows x 3 columns]"
      ]
     },
     "execution_count": 36,
     "metadata": {},
     "output_type": "execute_result"
    }
   ],
   "source": [
    "df_fp_new"
   ]
  },
  {
   "cell_type": "code",
   "execution_count": null,
   "metadata": {},
   "outputs": [],
   "source": [
    "POS3=POS1[(POS1['subclass_name']=='WOVENS')]"
   ]
  },
  {
   "cell_type": "code",
   "execution_count": 17,
   "metadata": {},
   "outputs": [],
   "source": [
    "knits_core=fp_new[(fp_new['fashion_pyd_new']=='10_1_5_knits_core')]"
   ]
  },
  {
   "cell_type": "code",
   "execution_count": 20,
   "metadata": {},
   "outputs": [],
   "source": [
    "knits_core.to_csv(r'C:\\Users\\SrishtiNagu\\Desktop\\DDRS12\\CAPSTONE\\DATA\\cleaned_data\\fashion_pyramid\\knits_core.csv')"
   ]
  },
  {
   "cell_type": "markdown",
   "metadata": {},
   "source": [
    "cathcing categories according to class and sub class categories"
   ]
  },
  {
   "cell_type": "code",
   "execution_count": 47,
   "metadata": {},
   "outputs": [
    {
     "ename": "SyntaxError",
     "evalue": "invalid syntax (<ipython-input-47-2da18d56c20a>, line 1)",
     "output_type": "error",
     "traceback": [
      "\u001b[1;36m  File \u001b[1;32m\"<ipython-input-47-2da18d56c20a>\"\u001b[1;36m, line \u001b[1;32m1\u001b[0m\n\u001b[1;33m    try=POS1.groupby(['class_name']=='CASUAL DRESSES',['subclass_name']=='KNITS','sales_d'])['units'].sum()\u001b[0m\n\u001b[1;37m       ^\u001b[0m\n\u001b[1;31mSyntaxError\u001b[0m\u001b[1;31m:\u001b[0m invalid syntax\n"
     ]
    }
   ],
   "source": [
    "try=POS1.groupby(['class_name']=='CASUAL DRESSES',['subclass_name']=='KNITS','sales_d'])['units'].sum()"
   ]
  },
  {
   "cell_type": "code",
   "execution_count": 49,
   "metadata": {},
   "outputs": [],
   "source": [
    "try=POS1.groupby(['class_name','subclass_name','sales_d'])['units'].sum()"
   ]
  },
  {
   "cell_type": "code",
   "execution_count": 51,
   "metadata": {},
   "outputs": [],
   "source": [
    "try.to_csv(r'C:\\Users\\SrishtiNagu\\Desktop\\DDRS12\\CAPSTONE\\DATA\\cleaned_data\\fashion_pyramid\\product_sales_units.csv')"
   ]
  },
  {
   "cell_type": "markdown",
   "metadata": {},
   "source": [
    "COST PRICE AND SALES"
   ]
  },
  {
   "cell_type": "code",
   "execution_count": 49,
   "metadata": {},
   "outputs": [],
   "source": [
    "class_sales=POS1.groupby([\"class_name\"],as_index=False)[\"sales\"].sum()"
   ]
  },
  {
   "cell_type": "code",
   "execution_count": 125,
   "metadata": {},
   "outputs": [],
   "source": [
    "class_sales.to_csv(r'C:\\Users\\SrishtiNagu\\Desktop\\DDRS12\\CAPSTONE\\DATA\\cleaned_data\\fashion_pyramid\\class_sales.csv')"
   ]
  },
  {
   "cell_type": "code",
   "execution_count": 50,
   "metadata": {},
   "outputs": [
    {
     "data": {
      "text/html": [
       "<div>\n",
       "<style scoped>\n",
       "    .dataframe tbody tr th:only-of-type {\n",
       "        vertical-align: middle;\n",
       "    }\n",
       "\n",
       "    .dataframe tbody tr th {\n",
       "        vertical-align: top;\n",
       "    }\n",
       "\n",
       "    .dataframe thead th {\n",
       "        text-align: right;\n",
       "    }\n",
       "</style>\n",
       "<table border=\"1\" class=\"dataframe\">\n",
       "  <thead>\n",
       "    <tr style=\"text-align: right;\">\n",
       "      <th></th>\n",
       "      <th>class_name</th>\n",
       "      <th>sales</th>\n",
       "    </tr>\n",
       "  </thead>\n",
       "  <tbody>\n",
       "    <tr>\n",
       "      <th>0</th>\n",
       "      <td>CASUAL DRESSES</td>\n",
       "      <td>3.095544e+07</td>\n",
       "    </tr>\n",
       "    <tr>\n",
       "      <th>1</th>\n",
       "      <td>DUMMY CLASS</td>\n",
       "      <td>1.475068e+05</td>\n",
       "    </tr>\n",
       "    <tr>\n",
       "      <th>2</th>\n",
       "      <td>REFINED DRESSES</td>\n",
       "      <td>1.463683e+08</td>\n",
       "    </tr>\n",
       "    <tr>\n",
       "      <th>3</th>\n",
       "      <td>SPECIAL OCCASION DAY</td>\n",
       "      <td>4.601368e+07</td>\n",
       "    </tr>\n",
       "    <tr>\n",
       "      <th>4</th>\n",
       "      <td>SPECIAL OCCASION EVENING</td>\n",
       "      <td>7.670571e+07</td>\n",
       "    </tr>\n",
       "    <tr>\n",
       "      <th>5</th>\n",
       "      <td>SPECIAL OCCASION SEPARATES</td>\n",
       "      <td>2.693480e+07</td>\n",
       "    </tr>\n",
       "  </tbody>\n",
       "</table>\n",
       "</div>"
      ],
      "text/plain": [
       "                   class_name         sales\n",
       "0              CASUAL DRESSES  3.095544e+07\n",
       "1                 DUMMY CLASS  1.475068e+05\n",
       "2             REFINED DRESSES  1.463683e+08\n",
       "3        SPECIAL OCCASION DAY  4.601368e+07\n",
       "4    SPECIAL OCCASION EVENING  7.670571e+07\n",
       "5  SPECIAL OCCASION SEPARATES  2.693480e+07"
      ]
     },
     "execution_count": 50,
     "metadata": {},
     "output_type": "execute_result"
    }
   ],
   "source": [
    "class_sales"
   ]
  },
  {
   "cell_type": "code",
   "execution_count": 51,
   "metadata": {},
   "outputs": [],
   "source": [
    "class_cost=POS1.groupby([\"class_name\"],as_index=False)[\"cost_price\"].sum()"
   ]
  },
  {
   "cell_type": "code",
   "execution_count": 124,
   "metadata": {},
   "outputs": [],
   "source": [
    "class_cost.to_csv(r'C:\\Users\\SrishtiNagu\\Desktop\\DDRS12\\CAPSTONE\\DATA\\cleaned_data\\fashion_pyramid\\class_cost.csv')"
   ]
  },
  {
   "cell_type": "code",
   "execution_count": 52,
   "metadata": {},
   "outputs": [
    {
     "data": {
      "text/html": [
       "<div>\n",
       "<style scoped>\n",
       "    .dataframe tbody tr th:only-of-type {\n",
       "        vertical-align: middle;\n",
       "    }\n",
       "\n",
       "    .dataframe tbody tr th {\n",
       "        vertical-align: top;\n",
       "    }\n",
       "\n",
       "    .dataframe thead th {\n",
       "        text-align: right;\n",
       "    }\n",
       "</style>\n",
       "<table border=\"1\" class=\"dataframe\">\n",
       "  <thead>\n",
       "    <tr style=\"text-align: right;\">\n",
       "      <th></th>\n",
       "      <th>class_name</th>\n",
       "      <th>cost_price</th>\n",
       "    </tr>\n",
       "  </thead>\n",
       "  <tbody>\n",
       "    <tr>\n",
       "      <th>0</th>\n",
       "      <td>CASUAL DRESSES</td>\n",
       "      <td>1.502447e+07</td>\n",
       "    </tr>\n",
       "    <tr>\n",
       "      <th>1</th>\n",
       "      <td>DUMMY CLASS</td>\n",
       "      <td>1.144232e+05</td>\n",
       "    </tr>\n",
       "    <tr>\n",
       "      <th>2</th>\n",
       "      <td>REFINED DRESSES</td>\n",
       "      <td>6.780825e+07</td>\n",
       "    </tr>\n",
       "    <tr>\n",
       "      <th>3</th>\n",
       "      <td>SPECIAL OCCASION DAY</td>\n",
       "      <td>2.140460e+07</td>\n",
       "    </tr>\n",
       "    <tr>\n",
       "      <th>4</th>\n",
       "      <td>SPECIAL OCCASION EVENING</td>\n",
       "      <td>3.432019e+07</td>\n",
       "    </tr>\n",
       "    <tr>\n",
       "      <th>5</th>\n",
       "      <td>SPECIAL OCCASION SEPARATES</td>\n",
       "      <td>1.204496e+07</td>\n",
       "    </tr>\n",
       "  </tbody>\n",
       "</table>\n",
       "</div>"
      ],
      "text/plain": [
       "                   class_name    cost_price\n",
       "0              CASUAL DRESSES  1.502447e+07\n",
       "1                 DUMMY CLASS  1.144232e+05\n",
       "2             REFINED DRESSES  6.780825e+07\n",
       "3        SPECIAL OCCASION DAY  2.140460e+07\n",
       "4    SPECIAL OCCASION EVENING  3.432019e+07\n",
       "5  SPECIAL OCCASION SEPARATES  1.204496e+07"
      ]
     },
     "execution_count": 52,
     "metadata": {},
     "output_type": "execute_result"
    }
   ],
   "source": [
    "class_cost"
   ]
  },
  {
   "cell_type": "code",
   "execution_count": 53,
   "metadata": {},
   "outputs": [],
   "source": [
    "class_margin=POS1.groupby([\"class_name\"],as_index=False)[\"margin\"].sum()"
   ]
  },
  {
   "cell_type": "code",
   "execution_count": 127,
   "metadata": {},
   "outputs": [],
   "source": [
    "class_margin.to_csv(r'C:\\Users\\SrishtiNagu\\Desktop\\DDRS12\\CAPSTONE\\DATA\\cleaned_data\\fashion_pyramid\\class_margin.csv')"
   ]
  },
  {
   "cell_type": "code",
   "execution_count": null,
   "metadata": {},
   "outputs": [],
   "source": []
  },
  {
   "cell_type": "code",
   "execution_count": 30,
   "metadata": {},
   "outputs": [],
   "source": [
    "tryall=df_POS1.groupby([df_POS1['store_type'],df_POS1['class_name']],as_index=False).agg({'sales_d':'mean','cost_price_d':'mean','margin_d':'mean','units':'sum'})"
   ]
  },
  {
   "cell_type": "code",
   "execution_count": 32,
   "metadata": {},
   "outputs": [],
   "source": [
    "tryall.to_csv(r'C:\\Users\\SrishtiNagu\\Desktop\\DDRS12\\CAPSTONE\\DATA\\cleaned_data\\fashion_pyramid\\class_storetype.csv')"
   ]
  },
  {
   "cell_type": "code",
   "execution_count": 12,
   "metadata": {},
   "outputs": [],
   "source": [
    "try=POS1.groupby([df_POS1['store_type']=='strip store',df_POS1['class_name']=='CASUAL DRESSES'],as_index=False)[\"sales_d\"].mean()"
   ]
  },
  {
   "cell_type": "markdown",
   "metadata": {},
   "source": [
    "TRIAL for RECENT DEMAND"
   ]
  },
  {
   "cell_type": "markdown",
   "metadata": {},
   "source": [
    "for one class to check"
   ]
  },
  {
   "cell_type": "code",
   "execution_count": 35,
   "metadata": {},
   "outputs": [],
   "source": [
    "refined=POS1.groupby([POS1['class_name']=='REFINED DRESSES',df_POS1['year']])[\"units\"].sum()"
   ]
  },
  {
   "cell_type": "code",
   "execution_count": 36,
   "metadata": {},
   "outputs": [
    {
     "data": {
      "text/plain": [
       "class_name  year\n",
       "False       2015     720390.0\n",
       "            2016    1801647.0\n",
       "            2017    1585445.0\n",
       "            2018     866330.0\n",
       "True        2015     541108.0\n",
       "            2016    1509697.0\n",
       "            2017    1475245.0\n",
       "            2018     627189.0\n",
       "Name: units, dtype: float64"
      ]
     },
     "execution_count": 36,
     "metadata": {},
     "output_type": "execute_result"
    }
   ],
   "source": [
    "refined"
   ]
  },
  {
   "cell_type": "markdown",
   "metadata": {},
   "source": [
    "FOR ALL THE CLASSES COMBINED"
   ]
  },
  {
   "cell_type": "code",
   "execution_count": 54,
   "metadata": {},
   "outputs": [],
   "source": [
    "recent_demand=POS1.groupby([POS1['class_name'],POS1['year']])[\"units\"].sum()"
   ]
  },
  {
   "cell_type": "code",
   "execution_count": 42,
   "metadata": {},
   "outputs": [],
   "source": [
    "recent_demand.to_csv(r'C:\\Users\\SrishtiNagu\\Desktop\\DDRS12\\CAPSTONE\\DATA\\cleaned_data\\fashion_pyramid\\recent_demand.csv')"
   ]
  },
  {
   "cell_type": "markdown",
   "metadata": {},
   "source": [
    "Finding number of each store type---->> go to clean_db_store_file"
   ]
  },
  {
   "cell_type": "code",
   "execution_count": 55,
   "metadata": {},
   "outputs": [],
   "source": [
    "state_avg_sales_d=POS1.groupby(['state'])[\"sales_d\"].mean()"
   ]
  },
  {
   "cell_type": "code",
   "execution_count": 57,
   "metadata": {},
   "outputs": [],
   "source": [
    "state_avg_sales_d.to_csv(r'C:\\Users\\SrishtiNagu\\Desktop\\DDRS12\\CAPSTONE\\DATA\\cleaned_data\\state_avgsalesd.csv')"
   ]
  }
 ],
 "metadata": {
  "interpreter": {
   "hash": "e04aca4fe750a7697219e44623d27e37d9e614e68ca0e938518a77b212442050"
  },
  "kernelspec": {
   "display_name": "Python 3.7.5 64-bit",
   "language": "python",
   "name": "python3"
  },
  "language_info": {
   "codemirror_mode": {
    "name": "ipython",
    "version": 3
   },
   "file_extension": ".py",
   "mimetype": "text/x-python",
   "name": "python",
   "nbconvert_exporter": "python",
   "pygments_lexer": "ipython3",
   "version": "3.7.5"
  },
  "orig_nbformat": 4
 },
 "nbformat": 4,
 "nbformat_minor": 2
}
